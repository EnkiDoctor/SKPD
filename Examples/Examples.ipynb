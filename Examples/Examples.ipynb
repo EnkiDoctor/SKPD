{
 "cells": [
  {
   "cell_type": "markdown",
   "metadata": {},
   "source": [
    "## import the package"
   ]
  },
  {
   "cell_type": "code",
   "execution_count": 1,
   "metadata": {},
   "outputs": [],
   "source": [
    "from SKPD import skpdRegressor\n",
    "from SKPD import *\n",
    "from tqdm import trange"
   ]
  },
  {
   "cell_type": "markdown",
   "metadata": {},
   "source": [
    "# 1. Matrxi Case"
   ]
  },
  {
   "cell_type": "markdown",
   "metadata": {},
   "source": [
    "## 1.1 generate simulated X and Y"
   ]
  },
  {
   "cell_type": "code",
   "execution_count": 2,
   "metadata": {},
   "outputs": [
    {
     "name": "stderr",
     "output_type": "stream",
     "text": [
      "100%|██████████| 1000/1000 [00:00<00:00, 1893.01it/s]\n"
     ]
    }
   ],
   "source": [
    "## import the true signal as paper descripted\n",
    "C_true = np.load(\"circles.npy\")\n",
    "np.random.seed(539)\n",
    "## image shape\n",
    "img_shape_m,img_shape_n,img_shape_d = 128,128,1\n",
    "## sample size \n",
    "N = 1000\n",
    "## noise level\n",
    "sigma = 3\n",
    "epsilon = np.random.normal(0,1,N) * sigma\n",
    "X = []\n",
    "Y = []\n",
    "for i in trange(N):\n",
    "    Xi = np.random.normal(0,1,img_shape_m * img_shape_n * img_shape_d).reshape(img_shape_m,img_shape_n,img_shape_d).squeeze()\n",
    "    X.append(Xi)\n",
    "    Y.append(np.vdot(Xi,C_true) + epsilon[i])\n",
    "    del Xi"
   ]
  },
  {
   "cell_type": "markdown",
   "metadata": {},
   "source": [
    "## 1.2 training"
   ]
  },
  {
   "cell_type": "code",
   "execution_count": 3,
   "metadata": {},
   "outputs": [
    {
     "name": "stdout",
     "output_type": "stream",
     "text": [
      "MBIC values:  [6579.272330669814, 6256.010743151538, 5806.415895445134, 6137.598987604764, 5744.26839262019, 5723.228229187698, 5479.312214181212, 5406.593103497392, 5784.504154400537]\n",
      "cost time:  36.23611927032471\n",
      "selected lambda:  0.6\n",
      "selected R:  3\n"
     ]
    }
   ],
   "source": [
    "tic = time.time()\n",
    "## lambda 1 candidate, corresponds to the lambda in the paper\n",
    "lmbda_set = [0.4,0.6,1]\n",
    "## We set lambda2 equals 0 all the time in the paper.\n",
    "lmbda2_set = [0]\n",
    "## tuning R in this candidate set\n",
    "## We refer to implement R = 1 first when smaple size is limited\n",
    "R_list = [1,2,3]\n",
    "n_cores = None\n",
    "## the dim of underlying C is (D1,D2,D3), which satisfies D1 = p1 * d1, D2 = p2 * d2 and D3 = p3 * d3 \n",
    "p1_list,p2_list,p3_list = [16],[16],[1]\n",
    "d1_list,d2_list,d3_list = [8],[8],[1]\n",
    "input_params = {\n",
    "    \"p1_list\":p1_list,\n",
    "    \"p2_list\":p2_list,\n",
    "    \"d1_list\":d1_list,\n",
    "    \"d2_list\":d2_list,\n",
    "    \"p3_list\":p3_list,\n",
    "    \"d3_list\":d3_list,\n",
    "    \"lmbda_set\":lmbda_set,\n",
    "    \"lmbda2_set\":lmbda2_set,\n",
    "    ## Z_train is None, when not consider covariate\n",
    "    \"Z_train\":None,\n",
    "    \"X_train\":X,\n",
    "    \"Y_train\":Y,\n",
    "    ## n_cores is the number of cores for parallel computing, when n_cores = None, we only use a single core in our paper\n",
    "    ## you can use n_cores > 1 for accelerating your computing\n",
    "    \"R_list\":R_list, \"n_cores\":n_cores,\"max_iter\":20,\"print_iter\":30}\n",
    "a_hat,b_hat,gamma_hat,lmbda1,lmbda2,R,p1,p2,p3,d1,d2,d3,solver = skpdRegressor(**input_params)\n",
    "print(\"cost time: \",time.time()-tic)\n",
    "print(\"selected lambda: \",lmbda1)\n",
    "print(\"selected R: \",R)"
   ]
  },
  {
   "cell_type": "markdown",
   "metadata": {},
   "source": [
    "## 1.3 Results"
   ]
  },
  {
   "cell_type": "markdown",
   "metadata": {},
   "source": [
    "the meaning of A,B is consistent with paper    \n",
    "the gamma_hat represents the estimated coefficients of regular covariate denoted as Z, such as age, sex etc. When no  regular covariate added, this parameter returns a scalar 0."
   ]
  },
  {
   "cell_type": "code",
   "execution_count": 4,
   "metadata": {},
   "outputs": [
    {
     "name": "stdout",
     "output_type": "stream",
     "text": [
      "[ 5.95077437 97.44835966 11.35163643]\n"
     ]
    }
   ],
   "source": [
    "A,B,kron_ab = func_kron_ab(a_hat,b_hat,R,p1,p2,d1,d2,p3,d3)\n",
    "C_hat = kron_ab[-1]\n",
    "## print measurement: FPR, TPR and RMSE\n",
    "print(np.array(error(C_hat,C_true))*100)"
   ]
  },
  {
   "cell_type": "code",
   "execution_count": 5,
   "metadata": {},
   "outputs": [
    {
     "data": {
      "text/plain": [
       "[]"
      ]
     },
     "execution_count": 5,
     "metadata": {},
     "output_type": "execute_result"
    },
    {
     "data": {
      "image/png": "[encoded data removed]",
      "text/plain": [
       "<Figure size 576x288 with 3 Axes>"
      ]
     },
     "metadata": {
      "needs_background": "light"
     },
     "output_type": "display_data"
    }
   ],
   "source": [
    "plt.figure(figsize= (8,4))\n",
    "ax = plt.subplot(1,2,1)\n",
    "sns.heatmap(fun_normalization(C_true),cmap = \"rainbow\",cbar = False)\n",
    "ax.set_xticks([])\n",
    "ax.set_yticks([])\n",
    "ax = plt.subplot(1,2,2)\n",
    "sns.heatmap(fun_normalization(C_hat),cmap = \"rainbow\",cbar = True)\n",
    "ax.set_xticks([])\n",
    "ax.set_yticks([])"
   ]
  },
  {
   "cell_type": "markdown",
   "metadata": {},
   "source": [
    "# 2. Tensor case"
   ]
  },
  {
   "cell_type": "markdown",
   "metadata": {},
   "source": [
    "## 3.1 generate underlying true signal, X and Y"
   ]
  },
  {
   "cell_type": "code",
   "execution_count": 6,
   "metadata": {},
   "outputs": [
    {
     "name": "stderr",
     "output_type": "stream",
     "text": [
      "100%|██████████| 1000/1000 [00:01<00:00, 915.96it/s]\n"
     ]
    }
   ],
   "source": [
    "## import the true signal as paper descripted\n",
    "C_true = np.load(\"2-balls.npy\")\n",
    "np.random.seed(5)\n",
    "## image shape\n",
    "img_shape_m,img_shape_n,img_shape_d = 32,32,32\n",
    "## sample size \n",
    "N = 1000\n",
    "## noise level\n",
    "sigma = 3\n",
    "epsilon = np.random.normal(0,1,N) * sigma\n",
    "X = []\n",
    "Y = []\n",
    "for i in trange(N):\n",
    "    Xi = np.random.normal(0,1,img_shape_m * img_shape_n * img_shape_d).reshape(img_shape_m,img_shape_n,img_shape_d).squeeze()\n",
    "    X.append(Xi)\n",
    "    Y.append(np.vdot(Xi,C_true) + epsilon[i])\n",
    "    del Xi"
   ]
  },
  {
   "cell_type": "markdown",
   "metadata": {},
   "source": [
    "## 3.2 training"
   ]
  },
  {
   "cell_type": "code",
   "execution_count": 8,
   "metadata": {},
   "outputs": [
    {
     "name": "stdout",
     "output_type": "stream",
     "text": [
      "MBIC values:  [1541.3038917529805, 1626.605264097822, 1859.0342188202708]\n",
      "cost time:  22.436145544052124\n",
      "selected lambda:  0.4\n",
      "selected R:  1\n"
     ]
    }
   ],
   "source": [
    "tic = time.time()\n",
    "## lambda 1 candidate, corresponds to the lambda in the paper\n",
    "lmbda_set = [0.4,0.6,1]\n",
    "## We set lambda2 equals 0 all the time.\n",
    "lmbda2_set = [0]\n",
    "## terms: 1 or 3\n",
    "R_list = [1]\n",
    "n_cores = None\n",
    "p1_list,p2_list,p3_list = [4],[4],[4]\n",
    "d1_list,d2_list,d3_list = [8],[8],[8]\n",
    "input_params = {\n",
    "    \"p1_list\":p1_list,\n",
    "    \"p2_list\":p2_list,\n",
    "    \"d1_list\":d1_list,\n",
    "    \"d2_list\":d2_list,\n",
    "    \"p3_list\":p3_list,\n",
    "    \"d3_list\":d3_list,\n",
    "    \"lmbda_set\":lmbda_set,\n",
    "    \"lmbda2_set\":lmbda2_set,\n",
    "    ## Z_train is None, when not consider covariate\n",
    "    \"Z_train\":None,\n",
    "    \"X_train\":X,\n",
    "    \"Y_train\":Y,\n",
    "    ## n_cores is the number of cores for parallel computing, when n_cores = None, we only use a single core in our paper\n",
    "    ## you can use n_cores > 1 for accelerating your computing\n",
    "    \"R_list\":R_list, \"n_cores\":n_cores,\"max_iter\":20,\"print_iter\":30}\n",
    "a_hat,b_hat,gamma_hat,lmbda1,lmbda2,R,p1,p2,p3,d1,d2,d3,solver = skpdRegressor(**input_params)\n",
    "print(\"cost time: \",time.time()-tic)\n",
    "print(\"selected lambda: \",lmbda1)\n",
    "print(\"selected R: \",R)"
   ]
  },
  {
   "cell_type": "code",
   "execution_count": 9,
   "metadata": {},
   "outputs": [
    {
     "name": "stdout",
     "output_type": "stream",
     "text": [
      "[  2.64368521 100.           1.53616689]\n"
     ]
    }
   ],
   "source": [
    "A,B,kron_ab = func_kron_ab(a_hat,b_hat,R,p1,p2,d1,d2,p3,d3)\n",
    "C_hat = kron_ab[-1]\n",
    "## print measurement: FPR, TPR and RMSE\n",
    "print(np.array(error(C_hat,C_true))*100)"
   ]
  },
  {
   "cell_type": "code",
   "execution_count": 12,
   "metadata": {},
   "outputs": [
    {
     "data": {
      "application/vnd.jupyter.widget-view+json": {
       "model_id": "cdd267b3e510402aaa380df0bcab8cb5",
       "version_major": 2,
       "version_minor": 0
      },
      "text/plain": [
       "Output()"
      ]
     },
     "metadata": {},
     "output_type": "display_data"
    }
   ],
   "source": [
    "## this function is defined in visualizatoin.py\n",
    "vis_tensor(fun_normalization(C_true))"
   ]
  }
 ],
 "metadata": {
  "interpreter": {
   "hash": "8a01f25d31198aa0361c5c52105c6641cd18a9400015674eb7e9dc966fd18a4d"
  },
  "kernelspec": {
   "display_name": "Python 3.8.5 ('base')",
   "name": "python3"
  },
  "language_info": {
   "codemirror_mode": {
    "name": "ipython",
    "version": 3
   },
   "file_extension": ".py",
   "mimetype": "text/x-python",
   "name": "python",
   "nbconvert_exporter": "python",
   "pygments_lexer": "ipython3",
   "version": "3.8.5"
  }
 },
 "nbformat": 4,
 "nbformat_minor": 4
}
