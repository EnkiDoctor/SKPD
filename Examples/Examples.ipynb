{
 "cells": [
  {
   "cell_type": "markdown",
   "metadata": {},
   "source": [
    "## import the package"
   ]
  },
  {
   "cell_type": "code",
   "execution_count": 3,
   "metadata": {},
   "outputs": [],
   "source": [
    "from SKPD import skpdRegressor\n",
    "from SKPD import *\n",
    "from tqdm import trange"
   ]
  },
  {
   "cell_type": "markdown",
   "metadata": {},
   "source": [
    "# 1. Matrxi Case"
   ]
  },
  {
   "cell_type": "markdown",
   "metadata": {},
   "source": [
    "## 1.1 generate simulated X and Y"
   ]
  },
  {
   "cell_type": "code",
   "execution_count": 9,
   "metadata": {},
   "outputs": [
    {
     "name": "stderr",
     "output_type": "stream",
     "text": [
      "100%|██████████| 1000/1000 [00:00<00:00, 1812.68it/s]\n"
     ]
    }
   ],
   "source": [
    "## import the true signal as paper descripted\n",
    "C_true = np.load(\"circles.npy\")\n",
    "np.random.seed(539)\n",
    "## image shape\n",
    "img_shape_m,img_shape_n,img_shape_d = 128,128,1\n",
    "## sample size \n",
    "N = 1000\n",
    "## noise level\n",
    "sigma = 3\n",
    "epsilon = np.random.normal(0,1,N) * sigma\n",
    "X = []\n",
    "Y = []\n",
    "for i in trange(N):\n",
    "    Xi = np.random.normal(0,1,img_shape_m * img_shape_n * img_shape_d).reshape(img_shape_m,img_shape_n,img_shape_d).squeeze()\n",
    "    X.append(Xi)\n",
    "    Y.append(np.vdot(Xi,C_true) + epsilon[i])\n",
    "    del Xi"
   ]
  },
  {
   "cell_type": "markdown",
   "metadata": {},
   "source": [
    "## 1.2 training"
   ]
  },
  {
   "cell_type": "code",
   "execution_count": 7,
   "metadata": {},
   "outputs": [
    {
     "name": "stdout",
     "output_type": "stream",
     "text": [
      "MBIC values:  [6604.3598617027355, 6279.794306023241, 5830.3098891293575, 6200.79904784319, 5713.870617970325, 5829.295518568435, 6329.369554782415, 5474.702894718666, 5799.255073285313]\n",
      "cost time:  39.34352087974548\n",
      "selected lambda:  0.6\n",
      "selected R:  3\n"
     ]
    }
   ],
   "source": [
    "tic = time.time()\n",
    "## lambda 1 candidate, corresponds to the lambda in the paper\n",
    "lmbda_set = [0.4,0.6,1]\n",
    "## We set lambda2 equals 0 all the time.\n",
    "lmbda2_set = [0]\n",
    "## terms: 1 or 3\n",
    "R_list = [1,2,3]\n",
    "n_cores = None\n",
    "p1_list,p2_list,p3_list = [16],[16],[1]\n",
    "d1_list,d2_list,d3_list = [8],[8],[1]\n",
    "input_params = {\n",
    "    \"p1_list\":p1_list,\n",
    "    \"p2_list\":p2_list,\n",
    "    \"d1_list\":d1_list,\n",
    "    \"d2_list\":d2_list,\n",
    "    \"p3_list\":p3_list,\n",
    "    \"d3_list\":d3_list,\n",
    "    \"lmbda_set\":lmbda_set,\n",
    "    \"lmbda2_set\":lmbda2_set,\n",
    "    ## Z_train is None, when not consider covariate\n",
    "    \"Z_train\":None,\n",
    "    \"X_train\":X,\n",
    "    \"Y_train\":Y,\n",
    "    ## n_cores is the number of cores for parallel computing, when n_cores = None, we only use a single core in our paper\n",
    "    ## you can use n_cores > 1 for accelerating your computing\n",
    "    \"R_list\":R_list, \"n_cores\":n_cores,\"max_iter\":20,\"print_iter\":30}\n",
    "a_hat,b_hat,gamma_hat,lmbda1,lmbda2,R,p1,p2,p3,d1,d2,d3 = skpdRegressor(**input_params)\n",
    "print(\"cost time: \",time.time()-tic)\n",
    "print(\"selected lambda: \",lmbda1)\n",
    "print(\"selected R: \",R)"
   ]
  },
  {
   "cell_type": "code",
   "execution_count": 10,
   "metadata": {},
   "outputs": [
    {
     "name": "stdout",
     "output_type": "stream",
     "text": [
      "[ 5.95077437 97.44835966 11.57300489]\n"
     ]
    }
   ],
   "source": [
    "A,B,kron_ab = func_kron_ab(a_hat,b_hat,R,p1,p2,d1,d2,p3,d3)\n",
    "C_hat = kron_ab[-1]\n",
    "## print measurement: FPR, TPR and RMSE\n",
    "print(np.array(error(C_hat,C_true))*100)"
   ]
  },
  {
   "cell_type": "code",
   "execution_count": 12,
   "metadata": {},
   "outputs": [
    {
     "data": {
      "text/plain": [
       "[]"
      ]
     },
     "execution_count": 12,
     "metadata": {},
     "output_type": "execute_result"
    },
    {
     "data": {
      "image/png": "[encoded data removed]",
      "text/plain": [
       "<Figure size 576x288 with 3 Axes>"
      ]
     },
     "metadata": {
      "needs_background": "light"
     },
     "output_type": "display_data"
    }
   ],
   "source": [
    "plt.figure(figsize= (8,4))\n",
    "ax = plt.subplot(1,2,1)\n",
    "sns.heatmap(fun_normalization(C_true),cmap = \"rainbow\",cbar = False)\n",
    "ax.set_xticks([])\n",
    "ax.set_yticks([])\n",
    "ax = plt.subplot(1,2,2)\n",
    "sns.heatmap(fun_normalization(C_hat),cmap = \"rainbow\",cbar = True)\n",
    "ax.set_xticks([])\n",
    "ax.set_yticks([])"
   ]
  },
  {
   "cell_type": "markdown",
   "metadata": {},
   "source": [
    "# 2. Tensor case"
   ]
  },
  {
   "cell_type": "markdown",
   "metadata": {},
   "source": [
    "## 3.1 generate underlying true signal, X and Y"
   ]
  },
  {
   "cell_type": "code",
   "execution_count": 18,
   "metadata": {},
   "outputs": [
    {
     "name": "stderr",
     "output_type": "stream",
     "text": [
      "100%|██████████| 1000/1000 [00:01<00:00, 984.69it/s]\n"
     ]
    }
   ],
   "source": [
    "## import the true signal as paper descripted\n",
    "C_true = np.load(\"2-balls.npy\")\n",
    "np.random.seed(5)\n",
    "## image shape\n",
    "img_shape_m,img_shape_n,img_shape_d = 32,32,32\n",
    "## sample size \n",
    "N = 1000\n",
    "## noise level\n",
    "sigma = 3\n",
    "epsilon = np.random.normal(0,1,N) * sigma\n",
    "X = []\n",
    "Y = []\n",
    "for i in trange(N):\n",
    "    Xi = np.random.normal(0,1,img_shape_m * img_shape_n * img_shape_d).reshape(img_shape_m,img_shape_n,img_shape_d).squeeze()\n",
    "    X.append(Xi)\n",
    "    Y.append(np.vdot(Xi,C_true) + epsilon[i])\n",
    "    del Xi"
   ]
  },
  {
   "cell_type": "markdown",
   "metadata": {},
   "source": [
    "## 3.2 training"
   ]
  },
  {
   "cell_type": "code",
   "execution_count": 19,
   "metadata": {},
   "outputs": [
    {
     "name": "stdout",
     "output_type": "stream",
     "text": [
      "MBIC values:  [1541.5144587209775, 1627.0763142640094, 1860.1379613790891]\n",
      "cost time:  25.41389799118042\n",
      "selected lambda:  0.4\n",
      "selected R:  1\n"
     ]
    }
   ],
   "source": [
    "tic = time.time()\n",
    "## lambda 1 candidate, corresponds to the lambda in the paper\n",
    "lmbda_set = [0.4,0.6,1]\n",
    "## We set lambda2 equals 0 all the time.\n",
    "lmbda2_set = [0]\n",
    "## terms: 1 or 3\n",
    "R_list = [1]\n",
    "n_cores = None\n",
    "p1_list,p2_list,p3_list = [4],[4],[4]\n",
    "d1_list,d2_list,d3_list = [8],[8],[8]\n",
    "input_params = {\n",
    "    \"p1_list\":p1_list,\n",
    "    \"p2_list\":p2_list,\n",
    "    \"d1_list\":d1_list,\n",
    "    \"d2_list\":d2_list,\n",
    "    \"p3_list\":p3_list,\n",
    "    \"d3_list\":d3_list,\n",
    "    \"lmbda_set\":lmbda_set,\n",
    "    \"lmbda2_set\":lmbda2_set,\n",
    "    ## Z_train is None, when not consider covariate\n",
    "    \"Z_train\":None,\n",
    "    \"X_train\":X,\n",
    "    \"Y_train\":Y,\n",
    "    ## n_cores is the number of cores for parallel computing, when n_cores = None, we only use a single core in our paper\n",
    "    ## you can use n_cores > 1 for accelerating your computing\n",
    "    \"R_list\":R_list, \"n_cores\":n_cores,\"max_iter\":20,\"print_iter\":30}\n",
    "a_hat,b_hat,gamma_hat,lmbda1,lmbda2,R,p1,p2,p3,d1,d2,d3 = skpdRegressor(**input_params)\n",
    "print(\"cost time: \",time.time()-tic)\n",
    "print(\"selected lambda: \",lmbda1)\n",
    "print(\"selected R: \",R)"
   ]
  },
  {
   "cell_type": "code",
   "execution_count": 20,
   "metadata": {},
   "outputs": [
    {
     "name": "stdout",
     "output_type": "stream",
     "text": [
      "[  2.64368521 100.           1.53600746]\n"
     ]
    }
   ],
   "source": [
    "A,B,kron_ab = func_kron_ab(a_hat,b_hat,R,p1,p2,d1,d2,p3,d3)\n",
    "C_hat = kron_ab[-1]\n",
    "## print measurement: FPR, TPR and RMSE\n",
    "print(np.array(error(C_hat,C_true))*100)"
   ]
  },
  {
   "cell_type": "code",
   "execution_count": 22,
   "metadata": {},
   "outputs": [
    {
     "name": "stderr",
     "output_type": "stream",
     "text": [
      "C:\\Users\\student\\anaconda3\\lib\\site-packages\\k3d\\objects.py:1032: UserWarning: wrong dtype: float64 ([<class 'numpy.float16'>, <class 'numpy.float32'>] required)\n",
      "  warnings.warn('wrong dtype: %s (%s required)' % (actual, required))\n"
     ]
    },
    {
     "data": {
      "application/vnd.jupyter.widget-view+json": {
       "model_id": "7901d2c7645d40aa919b886578d60a69",
       "version_major": 2,
       "version_minor": 0
      },
      "text/plain": [
       "Output()"
      ]
     },
     "metadata": {},
     "output_type": "display_data"
    }
   ],
   "source": [
    "## this function is defined in visualizatoin.py\n",
    "vis_tensor(fun_normalization(C_true))"
   ]
  }
 ],
 "metadata": {
  "interpreter": {
   "hash": "8a01f25d31198aa0361c5c52105c6641cd18a9400015674eb7e9dc966fd18a4d"
  },
  "kernelspec": {
   "display_name": "Python 3.8.5 ('base')",
   "name": "python3"
  },
  "language_info": {
   "codemirror_mode": {
    "name": "ipython",
    "version": 3
   },
   "file_extension": ".py",
   "mimetype": "text/x-python",
   "name": "python",
   "nbconvert_exporter": "python",
   "pygments_lexer": "ipython3",
   "version": "3.8.5"
  }
 },
 "nbformat": 4,
 "nbformat_minor": 4
}
