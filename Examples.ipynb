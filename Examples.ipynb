{
 "cells": [
  {
   "cell_type": "code",
   "execution_count": 1,
   "source": [
    "import pandas as pd\r\n",
    "import numpy as np\r\n",
    "import numpy.linalg as la\r\n",
    "import matplotlib.pyplot as plt\r\n",
    "import matplotlib as mpl\r\n",
    "import warnings\r\n",
    "import pandas as pd\r\n",
    "import seaborn as sns\r\n",
    "import time\r\n",
    "# Lasso and ridge\r\n",
    "import os\r\n",
    "import copy\r\n",
    "import skimage \r\n",
    "from skimage import io as ios\r\n",
    "import scipy.io as sio\r\n",
    "from numpy.linalg import matrix_rank\r\n",
    "import numpy.linalg as la\r\n",
    "from tqdm import trange\r\n",
    "from  my_operator import *\r\n",
    "from criterion import *\r\n",
    "from criterion_val import *\r\n",
    "from visualization import *\r\n",
    "from SKPD import *\r\n",
    "%matplotlib inline\r\n",
    "# sns.set()\r\n",
    "warnings.filterwarnings('ignore')\r\n",
    "os.getcwd()"
   ],
   "outputs": [
    {
     "output_type": "execute_result",
     "data": {
      "text/plain": [
       "'c:\\\\Users\\\\student\\\\Desktop\\\\SKPD_github'"
      ]
     },
     "metadata": {},
     "execution_count": 1
    }
   ],
   "metadata": {}
  },
  {
   "cell_type": "markdown",
   "source": [
    "# 1. Matrxi Case"
   ],
   "metadata": {}
  },
  {
   "cell_type": "markdown",
   "source": [
    "## 1.1 generate simulated X and Y"
   ],
   "metadata": {}
  },
  {
   "cell_type": "code",
   "execution_count": 2,
   "source": [
    "## import the true signal as paper descripted\r\n",
    "beta_true = np.load(\"circles.npy\")\r\n",
    "np.random.seed(539)\r\n",
    "## image shape\r\n",
    "img_shape_m,img_shape_n,img_shape_d = 128,128,1\r\n",
    "## sample size \r\n",
    "N = 1000\r\n",
    "## noise level\r\n",
    "sigma = 3\r\n",
    "epsilon = np.random.normal(0,1,N) * sigma\r\n",
    "X = []\r\n",
    "Y = []\r\n",
    "for i in trange(N):\r\n",
    "    Xi = np.random.normal(0,1,img_shape_m * img_shape_n * img_shape_d).reshape(img_shape_m,img_shape_n,img_shape_d).squeeze()\r\n",
    "    X.append(Xi)\r\n",
    "    Y.append(np.vdot(Xi,beta_true) + epsilon[i])\r\n",
    "    del Xi"
   ],
   "outputs": [
    {
     "output_type": "stream",
     "name": "stderr",
     "text": [
      "100%|██████████| 1000/1000 [00:00<00:00, 1381.09it/s]\n"
     ]
    }
   ],
   "metadata": {}
  },
  {
   "cell_type": "markdown",
   "source": [
    "## 1.2 training"
   ],
   "metadata": {}
  },
  {
   "cell_type": "code",
   "execution_count": 4,
   "source": [
    "tic = time.time()\r\n",
    "## lambda 1 candidate, corresponds to the lambda in the paper\r\n",
    "lmbda_set = [0.4,0.6,1]\r\n",
    "## We set lambda2 equals 0 all the time.\r\n",
    "lmbda2_set = [0]\r\n",
    "## terms: 1 or 3\r\n",
    "R = 3\r\n",
    "na = True\r\n",
    "nb = True\r\n",
    "## for p1,p2,p3 in our paper, p3 = 1 in matrix case\r\n",
    "m1_list,n1_list,d1_list = [16],[16],[1]\r\n",
    "## for d1,d2,d3 in our paper, d3 = 1 in matrix case\r\n",
    "m2_list,n2_list,d2_list = [8],[8],[1]\r\n",
    "input_params = {\r\n",
    "    \"m1_list\":m1_list,\r\n",
    "    \"n1_list\":n1_list,\r\n",
    "    \"m2_list\":m2_list,\r\n",
    "    \"n2_list\":n2_list,\r\n",
    "    \"d1_list\":d1_list,\r\n",
    "    \"d2_list\":d2_list,\r\n",
    "    \"lmbda_set\":lmbda_set,\r\n",
    "    \"lmbda2_set\":lmbda2_set,\r\n",
    "    ## Z_train is None, when not consider covariate\r\n",
    "    \"Z_train\":None,\r\n",
    "    \"X_train\":X,\r\n",
    "    \"Y_train\":Y,\r\n",
    "    ## n_cores is the number of cores for parallel computing, when n_cores = None, we only use a single core in our paper\r\n",
    "    ## you can use n_cores > 1 for accelerating your computing\r\n",
    "    \"R\":R, \"na\":na,\"nb\":nb,\"n_cores\":None,\"max_iter\":20,\"print_iter\":30}\r\n",
    "a_hat,b_hat,gamma_hat,Y_hat,err_beta,fN,solver,m1,n1,m2,n2,d1,d2,lmbda1,lmbda2 = fun_val_parallel(**input_params)\r\n",
    "print(\"cost time: \",time.time()-tic)\r\n",
    "print(\"seletecd lambda: \",lmbda1)"
   ],
   "outputs": [
    {
     "output_type": "stream",
     "name": "stdout",
     "text": [
      "Iteration m1 x n1 x d1 = 16 x 16 x 1 m2 x n2 x d2 = 8 x 8 x 1\n",
      "MBIC values:  [6329.369554782415, 5474.702894718623, 5799.255073285322]\n",
      "cost time:  9.53649091720581\n",
      "seletecd lambda:  0.6\n"
     ]
    }
   ],
   "metadata": {}
  },
  {
   "cell_type": "code",
   "execution_count": 5,
   "source": [
    "A,B,kron_ab = func_kron_ab(a_hat,b_hat,R,m1,n1,m2,n2,d1,d2)\r\n",
    "beta_hat = kron_ab[-1]\r\n",
    "## print measurement: FPR, TPR and RMSE\r\n",
    "print(np.array(error(beta_hat,beta_true))*100)"
   ],
   "outputs": [
    {
     "output_type": "stream",
     "name": "stdout",
     "text": [
      "[ 5.95077437 97.44835966 11.57300489]\n"
     ]
    }
   ],
   "metadata": {}
  },
  {
   "cell_type": "code",
   "execution_count": 6,
   "source": [
    "plt.figure(figsize= (8,4))\r\n",
    "ax = plt.subplot(1,2,1)\r\n",
    "sns.heatmap(fun_normalization(beta_true),cmap = \"rainbow\",cbar = False)\r\n",
    "ax.set_xticks([])\r\n",
    "ax.set_yticks([])\r\n",
    "ax = plt.subplot(1,2,2)\r\n",
    "sns.heatmap(fun_normalization(beta_hat),cmap = \"rainbow\",cbar = True)"
   ],
   "outputs": [
    {
     "output_type": "execute_result",
     "data": {
      "text/plain": [
       "<AxesSubplot:>"
      ]
     },
     "metadata": {},
     "execution_count": 6
    },
    {
     "output_type": "display_data",
     "data": {
      "image/png": "[encoded data removed]",
      "text/plain": [
       "<Figure size 576x288 with 3 Axes>"
      ]
     },
     "metadata": {
      "needs_background": "light"
     }
    }
   ],
   "metadata": {}
  },
  {
   "cell_type": "markdown",
   "source": [
    "# 2. Tensor case"
   ],
   "metadata": {}
  },
  {
   "cell_type": "markdown",
   "source": [
    "## 3.1 generate underlying true signal, X and Y"
   ],
   "metadata": {}
  },
  {
   "cell_type": "code",
   "execution_count": 7,
   "source": [
    "## import the true signal as paper descripted\r\n",
    "beta_true = np.load(\"2-balls.npy\")\r\n",
    "np.random.seed(5)\r\n",
    "## image shape\r\n",
    "img_shape_m,img_shape_n,img_shape_d = 32,32,32\r\n",
    "## sample size \r\n",
    "N = 1000\r\n",
    "## noise level\r\n",
    "sigma = 3\r\n",
    "epsilon = np.random.normal(0,1,N) * sigma\r\n",
    "X = []\r\n",
    "Y = []\r\n",
    "for i in trange(N):\r\n",
    "    Xi = np.random.normal(0,1,img_shape_m * img_shape_n * img_shape_d).reshape(img_shape_m,img_shape_n,img_shape_d).squeeze()\r\n",
    "    X.append(Xi)\r\n",
    "    Y.append(np.vdot(Xi,beta_true) + epsilon[i])\r\n",
    "    del Xi"
   ],
   "outputs": [
    {
     "output_type": "stream",
     "name": "stderr",
     "text": [
      "100%|██████████| 1000/1000 [00:01<00:00, 748.26it/s]\n"
     ]
    }
   ],
   "metadata": {}
  },
  {
   "cell_type": "markdown",
   "source": [
    "## 3.2 training"
   ],
   "metadata": {}
  },
  {
   "cell_type": "code",
   "execution_count": 8,
   "source": [
    "tic = time.time()\r\n",
    "## lambda-1 candidate set, corresponds to the lambda in the paper\r\n",
    "lmbda_set = [0.4,0.6,1]\r\n",
    "## We set lambda2 equals 0 all the time.\r\n",
    "lmbda2_set = [0]\r\n",
    "## We refer set R = 1 in tensor case\r\n",
    "R = 1\r\n",
    "na = True\r\n",
    "nb = True\r\n",
    "## for p1,p2,p3 in our paper, p3 != 1 in 3-order tensor case\r\n",
    "m1_list,n1_list,d1_list = [4],[4],[4]\r\n",
    "## for d1,d2,d3 in our paper, d3 = 1 in 3-order tensor case\r\n",
    "m2_list,n2_list,d2_list = [8],[8],[8]\r\n",
    "input_params = {\r\n",
    "    \"m1_list\":m1_list,\r\n",
    "    \"n1_list\":n1_list,\r\n",
    "    \"m2_list\":m2_list,\r\n",
    "    \"n2_list\":n2_list,\r\n",
    "    \"d1_list\":d1_list,\r\n",
    "    \"d2_list\":d2_list,\r\n",
    "    \"lmbda_set\":lmbda_set,\r\n",
    "    \"lmbda2_set\":lmbda2_set,\r\n",
    "    ## Z_train is None, when not consider covariate\r\n",
    "    \"Z_train\":None,\r\n",
    "    \"X_train\":X,\r\n",
    "    \"Y_train\":Y,\r\n",
    "    ## n_cores is the number of cores for parallel computing, when n_cores = None, we only use a single core in our paper\r\n",
    "    ## you can use n_cores > 1 for accelerating your computing\r\n",
    "    \"R\":R, \"na\":na,\"nb\":nb,\"n_cores\":None,\"max_iter\":20,\"print_iter\":30}\r\n",
    "a_hat,b_hat,gamma_hat,Y_hat,err_beta,fN,solver,m1,n1,m2,n2,d1,d2,lmbda1,lmbda2 = fun_val_parallel(**input_params)\r\n",
    "print(\"cost time: \",time.time()-tic)\r\n",
    "print(\"seletecd lambda: \",lmbda1)"
   ],
   "outputs": [
    {
     "output_type": "stream",
     "name": "stdout",
     "text": [
      "Iteration m1 x n1 x d1 = 4 x 4 x 4 m2 x n2 x d2 = 8 x 8 x 8\n",
      "MBIC values:  [1541.514458720978, 1627.0763142640094, 1860.13796137909]\n",
      "cost time:  11.802419900894165\n",
      "seletecd lambda:  0.4\n"
     ]
    }
   ],
   "metadata": {}
  },
  {
   "cell_type": "code",
   "execution_count": 9,
   "source": [
    "A,B,kron_ab = func_kron_ab(a_hat,b_hat,R,m1,n1,m2,n2,d1,d2)\r\n",
    "beta_hat = kron_ab[-1]\r\n",
    "print(np.array(error(beta_hat,beta_true))*100)"
   ],
   "outputs": [
    {
     "output_type": "stream",
     "name": "stdout",
     "text": [
      "[  2.64368521 100.           1.53600746]\n"
     ]
    }
   ],
   "metadata": {}
  },
  {
   "cell_type": "code",
   "execution_count": 10,
   "source": [
    "## this function is defined in visualizatoin.py\r\n",
    "vis_tensor(fun_normalization(beta_hat))"
   ],
   "outputs": [
    {
     "output_type": "display_data",
     "data": {
      "application/vnd.jupyter.widget-view+json": {
       "version_major": 2,
       "version_minor": 0,
       "model_id": "f4dc5189ebbc4558a6a0106a173b9aef"
      },
      "text/plain": [
       "Output()"
      ]
     },
     "metadata": {}
    }
   ],
   "metadata": {}
  },
  {
   "cell_type": "code",
   "execution_count": 11,
   "source": [
    "vis_tensor(beta_true)"
   ],
   "outputs": [
    {
     "output_type": "display_data",
     "data": {
      "application/vnd.jupyter.widget-view+json": {
       "version_major": 2,
       "version_minor": 0,
       "model_id": "9244b8a682064c6da6224d9847bbf4c5"
      },
      "text/plain": [
       "Output()"
      ]
     },
     "metadata": {}
    }
   ],
   "metadata": {}
  }
 ],
 "metadata": {
  "kernelspec": {
   "name": "python3",
   "display_name": "Python 3.8.5 64-bit ('base': conda)"
  },
  "language_info": {
   "codemirror_mode": {
    "name": "ipython",
    "version": 3
   },
   "file_extension": ".py",
   "mimetype": "text/x-python",
   "name": "python",
   "nbconvert_exporter": "python",
   "pygments_lexer": "ipython3",
   "version": "3.8.5"
  },
  "interpreter": {
   "hash": "8a01f25d31198aa0361c5c52105c6641cd18a9400015674eb7e9dc966fd18a4d"
  }
 },
 "nbformat": 4,
 "nbformat_minor": 4
}